{
 "cells": [
  {
   "cell_type": "markdown",
   "id": "c971d61f",
   "metadata": {},
   "source": [
    "# Q6"
   ]
  },
  {
   "cell_type": "code",
   "execution_count": 1,
   "id": "5ad37565",
   "metadata": {},
   "outputs": [
    {
     "data": {
      "text/plain": [
       "3.09"
      ]
     },
     "execution_count": 1,
     "metadata": {},
     "output_type": "execute_result"
    }
   ],
   "source": [
    "1*0.015 + 4*.20 + 3*.65 + 5*.005 + 6*.01 + 2*.120 "
   ]
  },
  {
   "cell_type": "markdown",
   "id": "2d378a70",
   "metadata": {},
   "source": [
    "# Q7"
   ]
  },
  {
   "cell_type": "code",
   "execution_count": 2,
   "id": "48d7c418",
   "metadata": {},
   "outputs": [],
   "source": [
    "import pandas as pd\n",
    "import numpy as np"
   ]
  },
  {
   "cell_type": "code",
   "execution_count": 3,
   "id": "371cde73",
   "metadata": {},
   "outputs": [
    {
     "data": {
      "text/html": [
       "<div>\n",
       "<style scoped>\n",
       "    .dataframe tbody tr th:only-of-type {\n",
       "        vertical-align: middle;\n",
       "    }\n",
       "\n",
       "    .dataframe tbody tr th {\n",
       "        vertical-align: top;\n",
       "    }\n",
       "\n",
       "    .dataframe thead th {\n",
       "        text-align: right;\n",
       "    }\n",
       "</style>\n",
       "<table border=\"1\" class=\"dataframe\">\n",
       "  <thead>\n",
       "    <tr style=\"text-align: right;\">\n",
       "      <th></th>\n",
       "      <th>Points</th>\n",
       "      <th>Score</th>\n",
       "      <th>Weigh</th>\n",
       "    </tr>\n",
       "  </thead>\n",
       "  <tbody>\n",
       "    <tr>\n",
       "      <th>Mazda RX4</th>\n",
       "      <td>3.90</td>\n",
       "      <td>2.620</td>\n",
       "      <td>16.46</td>\n",
       "    </tr>\n",
       "    <tr>\n",
       "      <th>Mazda RX4 Wag</th>\n",
       "      <td>3.90</td>\n",
       "      <td>2.875</td>\n",
       "      <td>17.02</td>\n",
       "    </tr>\n",
       "    <tr>\n",
       "      <th>Datsun 710</th>\n",
       "      <td>3.85</td>\n",
       "      <td>2.320</td>\n",
       "      <td>18.61</td>\n",
       "    </tr>\n",
       "    <tr>\n",
       "      <th>Hornet 4 Drive</th>\n",
       "      <td>3.08</td>\n",
       "      <td>3.215</td>\n",
       "      <td>19.44</td>\n",
       "    </tr>\n",
       "    <tr>\n",
       "      <th>Hornet Sportabout</th>\n",
       "      <td>3.15</td>\n",
       "      <td>3.440</td>\n",
       "      <td>17.02</td>\n",
       "    </tr>\n",
       "  </tbody>\n",
       "</table>\n",
       "</div>"
      ],
      "text/plain": [
       "                   Points  Score  Weigh\n",
       "Mazda RX4            3.90  2.620  16.46\n",
       "Mazda RX4 Wag        3.90  2.875  17.02\n",
       "Datsun 710           3.85  2.320  18.61\n",
       "Hornet 4 Drive       3.08  3.215  19.44\n",
       "Hornet Sportabout    3.15  3.440  17.02"
      ]
     },
     "execution_count": 3,
     "metadata": {},
     "output_type": "execute_result"
    }
   ],
   "source": [
    "q7 = pd.read_csv('Q7.csv',index_col=0)\n",
    "q7.head()"
   ]
  },
  {
   "cell_type": "markdown",
   "id": "3111500c",
   "metadata": {},
   "source": [
    "## Mean, Median, Mode, Variance, Standard Deviation, Range"
   ]
  },
  {
   "cell_type": "code",
   "execution_count": 4,
   "id": "9ac494aa",
   "metadata": {},
   "outputs": [
    {
     "data": {
      "text/html": [
       "<div>\n",
       "<style scoped>\n",
       "    .dataframe tbody tr th:only-of-type {\n",
       "        vertical-align: middle;\n",
       "    }\n",
       "\n",
       "    .dataframe tbody tr th {\n",
       "        vertical-align: top;\n",
       "    }\n",
       "\n",
       "    .dataframe thead th {\n",
       "        text-align: right;\n",
       "    }\n",
       "</style>\n",
       "<table border=\"1\" class=\"dataframe\">\n",
       "  <thead>\n",
       "    <tr style=\"text-align: right;\">\n",
       "      <th></th>\n",
       "      <th>Points</th>\n",
       "      <th>Score</th>\n",
       "      <th>Weigh</th>\n",
       "    </tr>\n",
       "  </thead>\n",
       "  <tbody>\n",
       "    <tr>\n",
       "      <th>count</th>\n",
       "      <td>32.000000</td>\n",
       "      <td>32.000000</td>\n",
       "      <td>32.000000</td>\n",
       "    </tr>\n",
       "    <tr>\n",
       "      <th>mean</th>\n",
       "      <td>3.596563</td>\n",
       "      <td>3.217250</td>\n",
       "      <td>17.848750</td>\n",
       "    </tr>\n",
       "    <tr>\n",
       "      <th>std</th>\n",
       "      <td>0.534679</td>\n",
       "      <td>0.978457</td>\n",
       "      <td>1.786943</td>\n",
       "    </tr>\n",
       "    <tr>\n",
       "      <th>min</th>\n",
       "      <td>2.760000</td>\n",
       "      <td>1.513000</td>\n",
       "      <td>14.500000</td>\n",
       "    </tr>\n",
       "    <tr>\n",
       "      <th>25%</th>\n",
       "      <td>3.080000</td>\n",
       "      <td>2.581250</td>\n",
       "      <td>16.892500</td>\n",
       "    </tr>\n",
       "    <tr>\n",
       "      <th>50%</th>\n",
       "      <td>3.695000</td>\n",
       "      <td>3.325000</td>\n",
       "      <td>17.710000</td>\n",
       "    </tr>\n",
       "    <tr>\n",
       "      <th>75%</th>\n",
       "      <td>3.920000</td>\n",
       "      <td>3.610000</td>\n",
       "      <td>18.900000</td>\n",
       "    </tr>\n",
       "    <tr>\n",
       "      <th>max</th>\n",
       "      <td>4.930000</td>\n",
       "      <td>5.424000</td>\n",
       "      <td>22.900000</td>\n",
       "    </tr>\n",
       "  </tbody>\n",
       "</table>\n",
       "</div>"
      ],
      "text/plain": [
       "          Points      Score      Weigh\n",
       "count  32.000000  32.000000  32.000000\n",
       "mean    3.596563   3.217250  17.848750\n",
       "std     0.534679   0.978457   1.786943\n",
       "min     2.760000   1.513000  14.500000\n",
       "25%     3.080000   2.581250  16.892500\n",
       "50%     3.695000   3.325000  17.710000\n",
       "75%     3.920000   3.610000  18.900000\n",
       "max     4.930000   5.424000  22.900000"
      ]
     },
     "execution_count": 4,
     "metadata": {},
     "output_type": "execute_result"
    }
   ],
   "source": [
    "q7.describe()"
   ]
  },
  {
   "cell_type": "markdown",
   "id": "4b5667c9",
   "metadata": {},
   "source": [
    "## Comment about the values/ Draw some inferences"
   ]
  },
  {
   "cell_type": "markdown",
   "id": "99010f2b",
   "metadata": {},
   "source": [
    "For points :\n",
    "</br>\n",
    "range(2.76,4.93)\n",
    "mean is almost equal to median. Follows normal distribution.\n",
    "</br>\n",
    "For Score:\n",
    "</br>\n",
    "range(1.513,5.424)\n",
    "mean = median, follows normal distribution\n",
    "</br>\n",
    "For Weigh:\n",
    "</br>\n",
    "range(14.5,14.5)\n",
    "mean is almost equal to median. Follows normal distribution"
   ]
  },
  {
   "cell_type": "markdown",
   "id": "bbc36289",
   "metadata": {},
   "source": [
    "# Q8"
   ]
  },
  {
   "cell_type": "code",
   "execution_count": 5,
   "id": "391f8bd1",
   "metadata": {},
   "outputs": [],
   "source": [
    "import numpy as np"
   ]
  },
  {
   "cell_type": "code",
   "execution_count": 6,
   "id": "72738f99",
   "metadata": {},
   "outputs": [
    {
     "name": "stdout",
     "output_type": "stream",
     "text": [
      "Expected Values is  145.33\n"
     ]
    }
   ],
   "source": [
    "x= np.array([108, 110, 123, 134, 135, 145, 167, 187, 199])\n",
    "print('Expected Values is ',np.round(x.mean(),2))"
   ]
  },
  {
   "cell_type": "markdown",
   "id": "d0c20be8",
   "metadata": {},
   "source": [
    "# Q9.a"
   ]
  },
  {
   "cell_type": "markdown",
   "id": "3dca41bc",
   "metadata": {},
   "source": [
    "## Calculate Skewness, Kurtosis & draw inferences"
   ]
  },
  {
   "cell_type": "code",
   "execution_count": 7,
   "id": "493fd236",
   "metadata": {},
   "outputs": [],
   "source": [
    "import pandas as pd\n",
    "import numpy as np\n",
    "import matplotlib.pyplot as plt\n",
    "import seaborn as sns\n",
    "from scipy.stats import kurtosis\n",
    "plt.style.use('dark_background')"
   ]
  },
  {
   "cell_type": "code",
   "execution_count": 8,
   "id": "1f1503df",
   "metadata": {},
   "outputs": [
    {
     "data": {
      "text/html": [
       "<div>\n",
       "<style scoped>\n",
       "    .dataframe tbody tr th:only-of-type {\n",
       "        vertical-align: middle;\n",
       "    }\n",
       "\n",
       "    .dataframe tbody tr th {\n",
       "        vertical-align: top;\n",
       "    }\n",
       "\n",
       "    .dataframe thead th {\n",
       "        text-align: right;\n",
       "    }\n",
       "</style>\n",
       "<table border=\"1\" class=\"dataframe\">\n",
       "  <thead>\n",
       "    <tr style=\"text-align: right;\">\n",
       "      <th></th>\n",
       "      <th>speed</th>\n",
       "      <th>dist</th>\n",
       "    </tr>\n",
       "    <tr>\n",
       "      <th>Index</th>\n",
       "      <th></th>\n",
       "      <th></th>\n",
       "    </tr>\n",
       "  </thead>\n",
       "  <tbody>\n",
       "    <tr>\n",
       "      <th>1</th>\n",
       "      <td>4</td>\n",
       "      <td>2</td>\n",
       "    </tr>\n",
       "    <tr>\n",
       "      <th>2</th>\n",
       "      <td>4</td>\n",
       "      <td>10</td>\n",
       "    </tr>\n",
       "    <tr>\n",
       "      <th>3</th>\n",
       "      <td>7</td>\n",
       "      <td>4</td>\n",
       "    </tr>\n",
       "    <tr>\n",
       "      <th>4</th>\n",
       "      <td>7</td>\n",
       "      <td>22</td>\n",
       "    </tr>\n",
       "    <tr>\n",
       "      <th>5</th>\n",
       "      <td>8</td>\n",
       "      <td>16</td>\n",
       "    </tr>\n",
       "  </tbody>\n",
       "</table>\n",
       "</div>"
      ],
      "text/plain": [
       "       speed  dist\n",
       "Index             \n",
       "1          4     2\n",
       "2          4    10\n",
       "3          7     4\n",
       "4          7    22\n",
       "5          8    16"
      ]
     },
     "execution_count": 8,
     "metadata": {},
     "output_type": "execute_result"
    }
   ],
   "source": [
    "df = pd.read_csv('Q9_a.csv',index_col='Index')\n",
    "df.head()"
   ]
  },
  {
   "cell_type": "code",
   "execution_count": 9,
   "id": "f4fe76bc",
   "metadata": {},
   "outputs": [
    {
     "data": {
      "image/png": "[encoded data removed]",
      "text/plain": [
       "<Figure size 700x200 with 1 Axes>"
      ]
     },
     "metadata": {},
     "output_type": "display_data"
    }
   ],
   "source": [
    "plt.figure(figsize=(7,2))\n",
    "\n",
    "sns.boxplot(df, orient=\"h\",palette=['cyan','#FFF01F'])\n",
    "\n",
    "plt.title('Boxplot')\n",
    "plt.show()"
   ]
  },
  {
   "cell_type": "code",
   "execution_count": 10,
   "id": "4206cf92",
   "metadata": {},
   "outputs": [
    {
     "data": {
      "image/png": "[encoded data removed]",
      "text/plain": [
       "<Figure size 500x400 with 1 Axes>"
      ]
     },
     "metadata": {},
     "output_type": "display_data"
    }
   ],
   "source": [
    "plt.figure(figsize=(5,4))\n",
    "\n",
    "sns.kdeplot(data = df,legend=True,palette=['r','b'])\n",
    "\n",
    "plt.show()\n"
   ]
  },
  {
   "cell_type": "code",
   "execution_count": 11,
   "id": "b67432e8",
   "metadata": {},
   "outputs": [
    {
     "name": "stdout",
     "output_type": "stream",
     "text": [
      "speed is Platykurtic\n",
      "dist is LeptoKurtic\n"
     ]
    }
   ],
   "source": [
    "for i in df.columns:\n",
    "    if kurtosis(df[i],axis=0,fisher=True) > 0:\n",
    "        print(i,'is LeptoKurtic')\n",
    "    elif kurtosis(df[i],axis=0,fisher=True) < 0:\n",
    "        print(i,'is Platykurtic')\n",
    "    else:\n",
    "        print(i,'is Mesokurtic')"
   ]
  },
  {
   "cell_type": "code",
   "execution_count": 12,
   "id": "84235f20",
   "metadata": {},
   "outputs": [
    {
     "name": "stdout",
     "output_type": "stream",
     "text": [
      "speed is normal.\n",
      "dist is right skewed.\n"
     ]
    }
   ],
   "source": [
    "for i in df.columns:\n",
    "    if df[i].skew() > .5:\n",
    "        print(i,'is right skewed.')\n",
    "    elif df[i].skew() < -.5:\n",
    "        print(i,'is left skewed.')\n",
    "    else:\n",
    "        print(i,'is normal.')"
   ]
  },
  {
   "cell_type": "markdown",
   "id": "43d86b15",
   "metadata": {},
   "source": [
    "# Q.9 b"
   ]
  },
  {
   "cell_type": "code",
   "execution_count": 13,
   "id": "1e810dde",
   "metadata": {},
   "outputs": [
    {
     "data": {
      "text/html": [
       "<div>\n",
       "<style scoped>\n",
       "    .dataframe tbody tr th:only-of-type {\n",
       "        vertical-align: middle;\n",
       "    }\n",
       "\n",
       "    .dataframe tbody tr th {\n",
       "        vertical-align: top;\n",
       "    }\n",
       "\n",
       "    .dataframe thead th {\n",
       "        text-align: right;\n",
       "    }\n",
       "</style>\n",
       "<table border=\"1\" class=\"dataframe\">\n",
       "  <thead>\n",
       "    <tr style=\"text-align: right;\">\n",
       "      <th></th>\n",
       "      <th>SP</th>\n",
       "      <th>WT</th>\n",
       "    </tr>\n",
       "  </thead>\n",
       "  <tbody>\n",
       "    <tr>\n",
       "      <th>1</th>\n",
       "      <td>104.185353</td>\n",
       "      <td>28.762059</td>\n",
       "    </tr>\n",
       "    <tr>\n",
       "      <th>2</th>\n",
       "      <td>105.461264</td>\n",
       "      <td>30.466833</td>\n",
       "    </tr>\n",
       "    <tr>\n",
       "      <th>3</th>\n",
       "      <td>105.461264</td>\n",
       "      <td>30.193597</td>\n",
       "    </tr>\n",
       "    <tr>\n",
       "      <th>4</th>\n",
       "      <td>113.461264</td>\n",
       "      <td>30.632114</td>\n",
       "    </tr>\n",
       "    <tr>\n",
       "      <th>5</th>\n",
       "      <td>104.461264</td>\n",
       "      <td>29.889149</td>\n",
       "    </tr>\n",
       "  </tbody>\n",
       "</table>\n",
       "</div>"
      ],
      "text/plain": [
       "           SP         WT\n",
       "1  104.185353  28.762059\n",
       "2  105.461264  30.466833\n",
       "3  105.461264  30.193597\n",
       "4  113.461264  30.632114\n",
       "5  104.461264  29.889149"
      ]
     },
     "execution_count": 13,
     "metadata": {},
     "output_type": "execute_result"
    }
   ],
   "source": [
    "df = pd.read_csv('Q9_b.csv',index_col=0)\n",
    "df.head()"
   ]
  },
  {
   "cell_type": "code",
   "execution_count": 14,
   "id": "e14877eb",
   "metadata": {},
   "outputs": [
    {
     "data": {
      "image/png": "[encoded data removed]",
      "text/plain": [
       "<Figure size 1200x200 with 1 Axes>"
      ]
     },
     "metadata": {},
     "output_type": "display_data"
    }
   ],
   "source": [
    "plt.figure(figsize=(12,2))\n",
    "\n",
    "sns.boxplot(df, orient='h',palette=['r','b'])\n",
    "\n",
    "plt.title('Boxplot')\n",
    "plt.show()"
   ]
  },
  {
   "cell_type": "code",
   "execution_count": 15,
   "id": "80e6bb28",
   "metadata": {},
   "outputs": [
    {
     "data": {
      "image/png": "[encoded data removed]",
      "text/plain": [
       "<Figure size 800x500 with 1 Axes>"
      ]
     },
     "metadata": {},
     "output_type": "display_data"
    }
   ],
   "source": [
    "plt.figure(figsize=(8,5))\n",
    "\n",
    "sns.kdeplot(df,bw_adjust=1.4,legend=True,palette=['r','b'])\n",
    "\n",
    "plt.title('Density Plot')\n",
    "plt.show()"
   ]
  },
  {
   "cell_type": "code",
   "execution_count": 16,
   "id": "cc205965",
   "metadata": {},
   "outputs": [
    {
     "name": "stdout",
     "output_type": "stream",
     "text": [
      "SP is LeptoKurtic\n",
      "WT is LeptoKurtic\n"
     ]
    }
   ],
   "source": [
    "for i in df.columns:\n",
    "    if kurtosis(df[i],axis=0,fisher=True) > 0:\n",
    "        print(i,'is LeptoKurtic')\n",
    "    elif kurtosis(df[i],axis=0,fisher=True) < 0:\n",
    "        print(i,'is Platykurtic')\n",
    "    else:\n",
    "        print(i,'is Mesokurtic')"
   ]
  },
  {
   "cell_type": "code",
   "execution_count": 17,
   "id": "b29b70fe",
   "metadata": {},
   "outputs": [
    {
     "name": "stdout",
     "output_type": "stream",
     "text": [
      "SP is right skewed.\n",
      "WT is left skewed.\n"
     ]
    }
   ],
   "source": [
    "for i in df.columns:\n",
    "    if df[i].skew() > .5:\n",
    "        print(i,'is right skewed.')\n",
    "    elif df[i].skew() < -.5:\n",
    "        print(i,'is left skewed.')\n",
    "    else:\n",
    "        print(i,'is normal.')"
   ]
  },
  {
   "cell_type": "markdown",
   "id": "a031aea8",
   "metadata": {},
   "source": [
    "# Q.11"
   ]
  },
  {
   "cell_type": "markdown",
   "id": "037540f1",
   "metadata": {},
   "source": [
    "##### Suppose we want to estimate the average weight of an adult male in    Mexico. We draw a random sample of 2,000 men from a population of 3,000,000 men and weigh them. We find that the average person in our sample weighs 200 pounds, and the standard deviation of the sample is 30 pounds. Calculate 94%,98%,96% confidence interval?"
   ]
  },
  {
   "cell_type": "code",
   "execution_count": 18,
   "id": "5bcb1499",
   "metadata": {},
   "outputs": [],
   "source": [
    "# sample size (n) = 20000\n",
    "n = 2000\n",
    "mean = 200\n",
    "std = 30"
   ]
  },
  {
   "cell_type": "code",
   "execution_count": 19,
   "id": "d7986a20",
   "metadata": {},
   "outputs": [],
   "source": [
    "import scipy.stats as st\n",
    "import math as m"
   ]
  },
  {
   "cell_type": "code",
   "execution_count": 20,
   "id": "0184645b",
   "metadata": {},
   "outputs": [
    {
     "name": "stdout",
     "output_type": "stream",
     "text": [
      "94% confidence interval: (198.738325292158, 201.261674707842)\n",
      "98% confidence interval: (198.43943840429978, 201.56056159570022)\n",
      "96% confidence interval: (198.62230334813333, 201.37769665186667)\n"
     ]
    }
   ],
   "source": [
    "# for calculating population std\n",
    "\n",
    "population_std = std/m.sqrt(n)\n",
    "\n",
    "print('94% confidence interval:',st.norm.interval(.94,loc=mean,scale=population_std))\n",
    "print('98% confidence interval:',st.norm.interval(.98,loc=mean,scale=population_std))\n",
    "print('96% confidence interval:',st.norm.interval(.96,loc=mean,scale=population_std))"
   ]
  },
  {
   "cell_type": "markdown",
   "id": "a90f654d",
   "metadata": {},
   "source": [
    "# Q.12"
   ]
  },
  {
   "cell_type": "markdown",
   "id": "1baac53f",
   "metadata": {},
   "source": [
    "##### 1)\tFind mean, median, variance, standard deviation"
   ]
  },
  {
   "cell_type": "code",
   "execution_count": 21,
   "id": "ee7a40e0",
   "metadata": {},
   "outputs": [],
   "source": [
    "import pandas as pd\n"
   ]
  },
  {
   "cell_type": "code",
   "execution_count": 22,
   "id": "eb25ac40",
   "metadata": {},
   "outputs": [
    {
     "data": {
      "text/plain": [
       "0    34\n",
       "1    36\n",
       "2    36\n",
       "3    38\n",
       "4    38\n",
       "dtype: int64"
      ]
     },
     "execution_count": 22,
     "metadata": {},
     "output_type": "execute_result"
    }
   ],
   "source": [
    "marks = pd.Series([34,36,36,38,38,39,39,40,40,41,41,41,41,42,42,45,49,56])\n",
    "marks.head()"
   ]
  },
  {
   "cell_type": "code",
   "execution_count": 23,
   "id": "3db0a7de",
   "metadata": {},
   "outputs": [
    {
     "name": "stdout",
     "output_type": "stream",
     "text": [
      "mean: 41.0\n",
      "median: 40.5\n",
      "varience: 25.529411764705884\n",
      "Standard Deviation: 5.05266382858645\n"
     ]
    }
   ],
   "source": [
    "print('mean:',marks.mean())\n",
    "print('median:',marks.quantile(.5))\n",
    "print('varience:',marks.var())\n",
    "print('Standard Deviation:',marks.std())"
   ]
  },
  {
   "cell_type": "markdown",
   "id": "cdb1b48b",
   "metadata": {},
   "source": [
    "##### \tWhat can we say about the student marks ?\n",
    "</br>\n",
    "mean > median, so we can say that marks data is right skewed"
   ]
  },
  {
   "cell_type": "markdown",
   "id": "5a261d16",
   "metadata": {},
   "source": [
    "# Q.20"
   ]
  },
  {
   "cell_type": "code",
   "execution_count": 24,
   "id": "41aeec06",
   "metadata": {},
   "outputs": [],
   "source": [
    "import pandas as pd\n",
    "import math as m\n",
    "import scipy.stats as st"
   ]
  },
  {
   "cell_type": "code",
   "execution_count": 25,
   "id": "116847a6",
   "metadata": {},
   "outputs": [
    {
     "data": {
      "text/html": [
       "<div>\n",
       "<style scoped>\n",
       "    .dataframe tbody tr th:only-of-type {\n",
       "        vertical-align: middle;\n",
       "    }\n",
       "\n",
       "    .dataframe tbody tr th {\n",
       "        vertical-align: top;\n",
       "    }\n",
       "\n",
       "    .dataframe thead th {\n",
       "        text-align: right;\n",
       "    }\n",
       "</style>\n",
       "<table border=\"1\" class=\"dataframe\">\n",
       "  <thead>\n",
       "    <tr style=\"text-align: right;\">\n",
       "      <th></th>\n",
       "      <th>HP</th>\n",
       "      <th>MPG</th>\n",
       "      <th>VOL</th>\n",
       "      <th>SP</th>\n",
       "      <th>WT</th>\n",
       "    </tr>\n",
       "  </thead>\n",
       "  <tbody>\n",
       "    <tr>\n",
       "      <th>0</th>\n",
       "      <td>49</td>\n",
       "      <td>53.700681</td>\n",
       "      <td>89</td>\n",
       "      <td>104.185353</td>\n",
       "      <td>28.762059</td>\n",
       "    </tr>\n",
       "    <tr>\n",
       "      <th>1</th>\n",
       "      <td>55</td>\n",
       "      <td>50.013401</td>\n",
       "      <td>92</td>\n",
       "      <td>105.461264</td>\n",
       "      <td>30.466833</td>\n",
       "    </tr>\n",
       "    <tr>\n",
       "      <th>2</th>\n",
       "      <td>55</td>\n",
       "      <td>50.013401</td>\n",
       "      <td>92</td>\n",
       "      <td>105.461264</td>\n",
       "      <td>30.193597</td>\n",
       "    </tr>\n",
       "    <tr>\n",
       "      <th>3</th>\n",
       "      <td>70</td>\n",
       "      <td>45.696322</td>\n",
       "      <td>92</td>\n",
       "      <td>113.461264</td>\n",
       "      <td>30.632114</td>\n",
       "    </tr>\n",
       "    <tr>\n",
       "      <th>4</th>\n",
       "      <td>53</td>\n",
       "      <td>50.504232</td>\n",
       "      <td>92</td>\n",
       "      <td>104.461264</td>\n",
       "      <td>29.889149</td>\n",
       "    </tr>\n",
       "  </tbody>\n",
       "</table>\n",
       "</div>"
      ],
      "text/plain": [
       "   HP        MPG  VOL          SP         WT\n",
       "0  49  53.700681   89  104.185353  28.762059\n",
       "1  55  50.013401   92  105.461264  30.466833\n",
       "2  55  50.013401   92  105.461264  30.193597\n",
       "3  70  45.696322   92  113.461264  30.632114\n",
       "4  53  50.504232   92  104.461264  29.889149"
      ]
     },
     "execution_count": 25,
     "metadata": {},
     "output_type": "execute_result"
    }
   ],
   "source": [
    "df = pd.read_csv('Cars.csv')\n",
    "df.head()"
   ]
  },
  {
   "cell_type": "code",
   "execution_count": 26,
   "id": "fe53bbc9",
   "metadata": {},
   "outputs": [],
   "source": [
    "n =df.shape[0]\n",
    "population_std = np.round(df['MPG'].std()/m.sqrt(n),6)\n",
    "mean = np.round(df['MPG'].mean(),6)"
   ]
  },
  {
   "cell_type": "markdown",
   "id": "baf03d32",
   "metadata": {},
   "source": [
    "##### a.\tP(MPG>38)"
   ]
  },
  {
   "cell_type": "code",
   "execution_count": 27,
   "id": "774aa43e",
   "metadata": {},
   "outputs": [
    {
     "data": {
      "text/plain": [
       "0.00021060870129427887"
      ]
     },
     "execution_count": 27,
     "metadata": {},
     "output_type": "execute_result"
    }
   ],
   "source": [
    "st.norm.sf(38,loc=mean,scale=population_std)"
   ]
  },
  {
   "cell_type": "markdown",
   "id": "0bd5208f",
   "metadata": {},
   "source": [
    "##### b.P(MPG<40)"
   ]
  },
  {
   "cell_type": "code",
   "execution_count": 28,
   "id": "bbad18b9",
   "metadata": {},
   "outputs": [
    {
     "data": {
      "text/plain": [
       "0.9999999807536435"
      ]
     },
     "execution_count": 28,
     "metadata": {},
     "output_type": "execute_result"
    }
   ],
   "source": [
    "st.norm.cdf(40,loc=mean,scale=population_std)"
   ]
  },
  {
   "cell_type": "markdown",
   "id": "23318de6",
   "metadata": {},
   "source": [
    "##### c.P (20<MPG<50)"
   ]
  },
  {
   "cell_type": "code",
   "execution_count": 29,
   "id": "b5f070f2",
   "metadata": {},
   "outputs": [
    {
     "name": "stdout",
     "output_type": "stream",
     "text": [
      "1.0\n"
     ]
    }
   ],
   "source": [
    "print(st.norm.cdf(50,loc=mean,scale=population_std) - st.norm.cdf(20,loc=mean,scale=population_std))"
   ]
  },
  {
   "cell_type": "markdown",
   "id": "7bed7d15",
   "metadata": {},
   "source": [
    "# Q.21.a\n",
    "\n",
    "#### Check whether the MPG of Cars follows Normal Distribution "
   ]
  },
  {
   "cell_type": "code",
   "execution_count": 30,
   "id": "8408c625",
   "metadata": {},
   "outputs": [],
   "source": [
    "import pandas as pd\n",
    "import numpy as np\n",
    "import matplotlib.pyplot as plt\n",
    "import seaborn as sns\n",
    "import statsmodels.api as sm\n",
    "plt.style.use('dark_background')"
   ]
  },
  {
   "cell_type": "code",
   "execution_count": 31,
   "id": "389860a0",
   "metadata": {},
   "outputs": [
    {
     "data": {
      "text/html": [
       "<div>\n",
       "<style scoped>\n",
       "    .dataframe tbody tr th:only-of-type {\n",
       "        vertical-align: middle;\n",
       "    }\n",
       "\n",
       "    .dataframe tbody tr th {\n",
       "        vertical-align: top;\n",
       "    }\n",
       "\n",
       "    .dataframe thead th {\n",
       "        text-align: right;\n",
       "    }\n",
       "</style>\n",
       "<table border=\"1\" class=\"dataframe\">\n",
       "  <thead>\n",
       "    <tr style=\"text-align: right;\">\n",
       "      <th></th>\n",
       "      <th>HP</th>\n",
       "      <th>MPG</th>\n",
       "      <th>VOL</th>\n",
       "      <th>SP</th>\n",
       "      <th>WT</th>\n",
       "    </tr>\n",
       "  </thead>\n",
       "  <tbody>\n",
       "    <tr>\n",
       "      <th>0</th>\n",
       "      <td>49</td>\n",
       "      <td>53.700681</td>\n",
       "      <td>89</td>\n",
       "      <td>104.185353</td>\n",
       "      <td>28.762059</td>\n",
       "    </tr>\n",
       "    <tr>\n",
       "      <th>1</th>\n",
       "      <td>55</td>\n",
       "      <td>50.013401</td>\n",
       "      <td>92</td>\n",
       "      <td>105.461264</td>\n",
       "      <td>30.466833</td>\n",
       "    </tr>\n",
       "    <tr>\n",
       "      <th>2</th>\n",
       "      <td>55</td>\n",
       "      <td>50.013401</td>\n",
       "      <td>92</td>\n",
       "      <td>105.461264</td>\n",
       "      <td>30.193597</td>\n",
       "    </tr>\n",
       "    <tr>\n",
       "      <th>3</th>\n",
       "      <td>70</td>\n",
       "      <td>45.696322</td>\n",
       "      <td>92</td>\n",
       "      <td>113.461264</td>\n",
       "      <td>30.632114</td>\n",
       "    </tr>\n",
       "    <tr>\n",
       "      <th>4</th>\n",
       "      <td>53</td>\n",
       "      <td>50.504232</td>\n",
       "      <td>92</td>\n",
       "      <td>104.461264</td>\n",
       "      <td>29.889149</td>\n",
       "    </tr>\n",
       "  </tbody>\n",
       "</table>\n",
       "</div>"
      ],
      "text/plain": [
       "   HP        MPG  VOL          SP         WT\n",
       "0  49  53.700681   89  104.185353  28.762059\n",
       "1  55  50.013401   92  105.461264  30.466833\n",
       "2  55  50.013401   92  105.461264  30.193597\n",
       "3  70  45.696322   92  113.461264  30.632114\n",
       "4  53  50.504232   92  104.461264  29.889149"
      ]
     },
     "execution_count": 31,
     "metadata": {},
     "output_type": "execute_result"
    }
   ],
   "source": [
    "df = pd.read_csv('Cars.csv')\n",
    "df.head()"
   ]
  },
  {
   "cell_type": "code",
   "execution_count": 32,
   "id": "6765a41c",
   "metadata": {},
   "outputs": [
    {
     "data": {
      "text/plain": [
       "-0.17794674747025727"
      ]
     },
     "execution_count": 32,
     "metadata": {},
     "output_type": "execute_result"
    }
   ],
   "source": [
    "df['MPG'].skew() # it is nearer to 0, we can say that it is normally distributed"
   ]
  },
  {
   "cell_type": "code",
   "execution_count": 33,
   "id": "13ec8446",
   "metadata": {},
   "outputs": [
    {
     "data": {
      "image/png": "[encoded data removed]",
      "text/plain": [
       "<Figure size 600x400 with 1 Axes>"
      ]
     },
     "metadata": {},
     "output_type": "display_data"
    }
   ],
   "source": [
    "plt.figure(figsize=(6,4))\n",
    "\n",
    "sns.kdeplot(data=df,x='MPG',bw_adjust=1.5)\n",
    "plt.title('Density Plot')\n",
    "plt.show()"
   ]
  },
  {
   "cell_type": "markdown",
   "id": "6c8dfb46",
   "metadata": {},
   "source": [
    "##### Final test to check if it follows normal distribution or not"
   ]
  },
  {
   "cell_type": "code",
   "execution_count": 34,
   "id": "8ecf94a0",
   "metadata": {},
   "outputs": [
    {
     "data": {
      "text/plain": [
       "<Figure size 500x400 with 0 Axes>"
      ]
     },
     "metadata": {},
     "output_type": "display_data"
    },
    {
     "data": {
      "image/png": "[encoded data removed]",
      "text/plain": [
       "<Figure size 640x480 with 1 Axes>"
      ]
     },
     "metadata": {},
     "output_type": "display_data"
    }
   ],
   "source": [
    "plt.figure(figsize=(5,4))\n",
    "\n",
    "sm.qqplot(data= df['MPG'],line='45',fit=True)\n",
    "\n",
    "plt.show()"
   ]
  },
  {
   "cell_type": "markdown",
   "id": "daedfebe",
   "metadata": {},
   "source": [
    "# Q.21.b\n",
    "\n",
    "##### Check Whether the Adipose Tissue (AT) and Waist Circumference(Waist)  from wc-at data set  follows Normal Distribution\n"
   ]
  },
  {
   "cell_type": "code",
   "execution_count": 35,
   "id": "edfcc6a4",
   "metadata": {},
   "outputs": [],
   "source": [
    "import pandas as pd\n",
    "import numpy as np\n",
    "import matplotlib.pyplot as plt\n",
    "import seaborn as sns\n",
    "import statsmodels.api as sm\n",
    "from scipy.stats import kurtosis\n",
    "plt.style.use('dark_background')"
   ]
  },
  {
   "cell_type": "code",
   "execution_count": 36,
   "id": "570c651e",
   "metadata": {},
   "outputs": [
    {
     "data": {
      "text/html": [
       "<div>\n",
       "<style scoped>\n",
       "    .dataframe tbody tr th:only-of-type {\n",
       "        vertical-align: middle;\n",
       "    }\n",
       "\n",
       "    .dataframe tbody tr th {\n",
       "        vertical-align: top;\n",
       "    }\n",
       "\n",
       "    .dataframe thead th {\n",
       "        text-align: right;\n",
       "    }\n",
       "</style>\n",
       "<table border=\"1\" class=\"dataframe\">\n",
       "  <thead>\n",
       "    <tr style=\"text-align: right;\">\n",
       "      <th></th>\n",
       "      <th>Waist</th>\n",
       "      <th>AT</th>\n",
       "    </tr>\n",
       "  </thead>\n",
       "  <tbody>\n",
       "    <tr>\n",
       "      <th>0</th>\n",
       "      <td>74.75</td>\n",
       "      <td>25.72</td>\n",
       "    </tr>\n",
       "    <tr>\n",
       "      <th>1</th>\n",
       "      <td>72.60</td>\n",
       "      <td>25.89</td>\n",
       "    </tr>\n",
       "    <tr>\n",
       "      <th>2</th>\n",
       "      <td>81.80</td>\n",
       "      <td>42.60</td>\n",
       "    </tr>\n",
       "    <tr>\n",
       "      <th>3</th>\n",
       "      <td>83.95</td>\n",
       "      <td>42.80</td>\n",
       "    </tr>\n",
       "    <tr>\n",
       "      <th>4</th>\n",
       "      <td>74.65</td>\n",
       "      <td>29.84</td>\n",
       "    </tr>\n",
       "  </tbody>\n",
       "</table>\n",
       "</div>"
      ],
      "text/plain": [
       "   Waist     AT\n",
       "0  74.75  25.72\n",
       "1  72.60  25.89\n",
       "2  81.80  42.60\n",
       "3  83.95  42.80\n",
       "4  74.65  29.84"
      ]
     },
     "execution_count": 36,
     "metadata": {},
     "output_type": "execute_result"
    }
   ],
   "source": [
    "df = pd.read_csv(\"wc-at.csv\")\n",
    "df.head()"
   ]
  },
  {
   "cell_type": "code",
   "execution_count": 37,
   "id": "20326f00",
   "metadata": {},
   "outputs": [
    {
     "data": {
      "image/png": "[encoded data removed]",
      "text/plain": [
       "<Figure size 1000x200 with 1 Axes>"
      ]
     },
     "metadata": {},
     "output_type": "display_data"
    }
   ],
   "source": [
    "plt.figure(figsize=(10,2))\n",
    "\n",
    "sns.boxplot(df,orient='h',palette=['r','b'])\n",
    "\n",
    "plt.title('Box Plot of Waist and AT')\n",
    "plt.show()"
   ]
  },
  {
   "cell_type": "code",
   "execution_count": 38,
   "id": "20d8feb7",
   "metadata": {},
   "outputs": [
    {
     "data": {
      "image/png": "[encoded data removed]",
      "text/plain": [
       "<Figure size 700x600 with 1 Axes>"
      ]
     },
     "metadata": {},
     "output_type": "display_data"
    }
   ],
   "source": [
    "plt.figure(figsize=(7,6))\n",
    "\n",
    "sns.kdeplot(df,legend=True,bw_adjust=1.8,palette=['r','b'])\n",
    "\n",
    "plt.title('Density Plot of Waist and AT')\n",
    "plt.show()"
   ]
  },
  {
   "cell_type": "code",
   "execution_count": 39,
   "id": "626125c1",
   "metadata": {},
   "outputs": [
    {
     "name": "stdout",
     "output_type": "stream",
     "text": [
      "Waist is Platykurtic\n",
      "AT is Platykurtic\n"
     ]
    }
   ],
   "source": [
    "for i in df.columns:\n",
    "    if kurtosis(df[i],axis=0,fisher=True) > 0:\n",
    "        print(i,'is LeptoKurtic')\n",
    "    elif kurtosis(df[i],axis=0,fisher=True) < 0:\n",
    "        print(i,'is Platykurtic')\n",
    "    else:\n",
    "        print(i,'is Mesokurtic')"
   ]
  },
  {
   "cell_type": "code",
   "execution_count": 40,
   "id": "af4137ca",
   "metadata": {},
   "outputs": [
    {
     "name": "stdout",
     "output_type": "stream",
     "text": [
      "Waist is normal.\n",
      "AT is right skewed.\n"
     ]
    }
   ],
   "source": [
    "for i in df.columns:\n",
    "    if df[i].skew() > .5:\n",
    "        print(i,'is right skewed.')\n",
    "    elif df[i].skew() < -.5:\n",
    "        print(i,'is left skewed.')\n",
    "    else:\n",
    "        print(i,'is normal.')"
   ]
  },
  {
   "cell_type": "code",
   "execution_count": 41,
   "id": "285e0f53",
   "metadata": {},
   "outputs": [
    {
     "data": {
      "text/plain": [
       "<Figure size 700x500 with 0 Axes>"
      ]
     },
     "metadata": {},
     "output_type": "display_data"
    },
    {
     "data": {
      "image/png": "[encoded data removed]",
      "text/plain": [
       "<Figure size 640x480 with 1 Axes>"
      ]
     },
     "metadata": {},
     "output_type": "display_data"
    }
   ],
   "source": [
    "plt.figure(figsize=(7,5))\n",
    "\n",
    "sm.qqplot(df['Waist'],line='45',fit=True)\n",
    "\n",
    "plt.title('QQ-Plot for Waist')\n",
    "\n",
    "plt.show()"
   ]
  },
  {
   "cell_type": "code",
   "execution_count": 42,
   "id": "debbb913",
   "metadata": {},
   "outputs": [
    {
     "data": {
      "text/plain": [
       "<Figure size 700x500 with 0 Axes>"
      ]
     },
     "metadata": {},
     "output_type": "display_data"
    },
    {
     "data": {
      "image/png": "[encoded data removed]",
      "text/plain": [
       "<Figure size 640x480 with 1 Axes>"
      ]
     },
     "metadata": {},
     "output_type": "display_data"
    }
   ],
   "source": [
    "plt.figure(figsize=(7,5))\n",
    "\n",
    "sm.qqplot(df['AT'],line='45',fit=True)\n",
    "\n",
    "plt.title('QQ-Plot for AT')\n",
    "\n",
    "plt.show()"
   ]
  },
  {
   "cell_type": "markdown",
   "id": "38c7bd5a",
   "metadata": {},
   "source": [
    "##### From the above tests we draw conclusion that both are normally distributed but AT is right skewed"
   ]
  },
  {
   "cell_type": "markdown",
   "id": "14217b9a",
   "metadata": {},
   "source": [
    "# Q.22\n",
    "##### Calculate the Z scores of  90% confidence interval,94% confidence interval, 60% confidence interval "
   ]
  },
  {
   "cell_type": "code",
   "execution_count": 43,
   "id": "4e6b8c59",
   "metadata": {},
   "outputs": [],
   "source": [
    "import scipy.stats as st"
   ]
  },
  {
   "cell_type": "code",
   "execution_count": 44,
   "id": "8ec3e0fb",
   "metadata": {},
   "outputs": [
    {
     "name": "stdout",
     "output_type": "stream",
     "text": [
      "For 90% confidence (-1.6448536269514729, 1.6448536269514722)\n",
      "For 94% confidence (-1.8807936081512509, 1.8807936081512509)\n",
      "For 60% confidence (-0.8416212335729142, 0.8416212335729143)\n"
     ]
    }
   ],
   "source": [
    "print('For 90% confidence',st.norm.interval(.9))\n",
    "print('For 94% confidence',st.norm.interval(.94))\n",
    "print('For 60% confidence',st.norm.interval(.6))"
   ]
  },
  {
   "cell_type": "markdown",
   "id": "1ec47c47",
   "metadata": {},
   "source": [
    "# Q.23\n",
    "##### Calculate the t scores of 95% confidence interval, 96% confidence interval, 99% confidence interval for sample size of 25"
   ]
  },
  {
   "cell_type": "code",
   "execution_count": 45,
   "id": "507e65e2",
   "metadata": {},
   "outputs": [],
   "source": [
    "import scipy.stats as st"
   ]
  },
  {
   "cell_type": "code",
   "execution_count": 46,
   "id": "181a048a",
   "metadata": {},
   "outputs": [
    {
     "name": "stdout",
     "output_type": "stream",
     "text": [
      "For 95% confidence (-2.0638985616280205, 2.0638985616280205)\n",
      "For 96% confidence (-2.1715446760080677, 2.1715446760080677)\n",
      "For 99% confidence (-2.796939504772804, 2.796939504772804)\n"
     ]
    }
   ],
   "source": [
    "# d0f = n-1; n=25\n",
    "print('For 95% confidence',st.t.interval(.95,24))\n",
    "print('For 96% confidence',st.t.interval(.96,24))\n",
    "print('For 99% confidence',st.t.interval(.99,24))"
   ]
  },
  {
   "cell_type": "markdown",
   "id": "2103aabd",
   "metadata": {},
   "source": [
    "# Q.24  \n",
    "###### A Government  company claims that an average light bulb lasts 270 days. A researcher randomly selects 18 bulbs for testing. The sampled bulbs last an average of 260 days, with a standard deviation of 90 days. If the CEO's claim were true, what is the probability that 18 randomly selected bulbs would have an average life of no more than 260 days"
   ]
  },
  {
   "cell_type": "code",
   "execution_count": 47,
   "id": "a59a64ed",
   "metadata": {},
   "outputs": [],
   "source": [
    "import scipy.stats as st\n",
    "import math as m"
   ]
  },
  {
   "cell_type": "code",
   "execution_count": 48,
   "id": "2a3915f2",
   "metadata": {},
   "outputs": [],
   "source": [
    "std = 90/m.sqrt(18)"
   ]
  },
  {
   "cell_type": "code",
   "execution_count": 49,
   "id": "1b3ca96f",
   "metadata": {},
   "outputs": [
    {
     "name": "stdout",
     "output_type": "stream",
     "text": [
      "the probability that 18 randomly selected bulbs would have an average life of no more than 260 days is  0.32167253567098364\n"
     ]
    }
   ],
   "source": [
    "print(\"the probability that 18 randomly selected bulbs would have an average life of no more than 260 days is \",st.t.cdf(260,17,loc=270,scale=std))"
   ]
  },
  {
   "cell_type": "code",
   "execution_count": null,
   "id": "919d8641",
   "metadata": {},
   "outputs": [],
   "source": []
  }
 ],
 "metadata": {
  "kernelspec": {
   "display_name": "Python 3 (ipykernel)",
   "language": "python",
   "name": "python3"
  },
  "language_info": {
   "codemirror_mode": {
    "name": "ipython",
    "version": 3
   },
   "file_extension": ".py",
   "mimetype": "text/x-python",
   "name": "python",
   "nbconvert_exporter": "python",
   "pygments_lexer": "ipython3",
   "version": "3.10.9"
  }
 },
 "nbformat": 4,
 "nbformat_minor": 5
}
